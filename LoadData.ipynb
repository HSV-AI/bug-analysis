{
 "cells": [
  {
   "cell_type": "markdown",
   "metadata": {},
   "source": [
    "# XML Data Loading\n",
    "\n",
    "Another approach is to download an XML file from a Bugzilla query so that you don't have to connect to the server every time you run this notebook. It is good for debugging, but will need to switch back to a live connection any time you want to pick up new data."
   ]
  },
  {
   "cell_type": "code",
   "execution_count": 1,
   "metadata": {},
   "outputs": [
    {
     "name": "stdout",
     "output_type": "stream",
     "text": [
      "Loaded 727 bugs\n"
     ]
    }
   ],
   "source": [
    "import xml.etree.ElementTree as ET\n",
    "\n",
    "bug_ids = []\n",
    "bug_titles = []\n",
    "bug_products = []\n",
    "bug_components = []\n",
    "bug_text = []\n",
    "bug_reporters = []\n",
    "bug_commenters = []\n",
    "filename = 'data/xtext_bugs.xml'\n",
    "tree = ET.parse(filename)\n",
    "root = tree.getroot()\n",
    "for bug in root:\n",
    "    \n",
    "    id = bug.find('bug_id')\n",
    "    bug_ids.append(id.text)\n",
    "    \n",
    "    title = bug.find('short_desc')\n",
    "    bug_titles.append(title.text)\n",
    "    \n",
    "    product = bug.find('product')\n",
    "    bug_products.append(product.text)\n",
    "    \n",
    "    component = bug.find('component')\n",
    "    bug_components.append(component.text)\n",
    "\n",
    "    reporter = bug.find('reporter')\n",
    "    bug_reporters.append(reporter.text)\n",
    "    \n",
    "    text = title.text\n",
    "    for thetext in bug.iter('thetext'):\n",
    "        if thetext.text:\n",
    "            text += ' '+ thetext.text\n",
    "            \n",
    "    commenters = []\n",
    "    for longdesc in bug.iter('long_desc'):\n",
    "        commenter = longdesc.find('who')\n",
    "        commenters.append(commenter.text)\n",
    "        thetext = longdesc.find('thetext')\n",
    "        if thetext.text:\n",
    "            text += ' '+ thetext.text\n",
    "    bug_text.append(text)\n",
    "    bug_commenters.append(commenters)\n",
    "    \n",
    "print('Loaded '+str(len(bug_ids))+' bugs')\n"
   ]
  },
  {
   "cell_type": "code",
   "execution_count": 2,
   "metadata": {},
   "outputs": [
    {
     "name": "stdout",
     "output_type": "stream",
     "text": [
      "Created DataFrame named df\n",
      "['commenters', 'component', 'id', 'product', 'reporter', 'text', 'title']\n"
     ]
    }
   ],
   "source": [
    "#Create master dataframe\n",
    "import pandas as pd\n",
    "\n",
    "df = pd.DataFrame(dict(id=bug_ids, title=bug_titles, component=bug_components, product=bug_products, \n",
    "                       text=bug_text, reporter=bug_reporters, commenters=bug_commenters ))\n",
    "\n",
    "print('Created DataFrame named df')\n",
    "print(list(df))"
   ]
  },
  {
   "cell_type": "code",
   "execution_count": null,
   "metadata": {
    "collapsed": true
   },
   "outputs": [],
   "source": []
  }
 ],
 "metadata": {
  "kernelspec": {
   "display_name": "Python 3",
   "language": "python",
   "name": "python3"
  },
  "language_info": {
   "codemirror_mode": {
    "name": "ipython",
    "version": 3
   },
   "file_extension": ".py",
   "mimetype": "text/x-python",
   "name": "python",
   "nbconvert_exporter": "python",
   "pygments_lexer": "ipython3",
   "version": "3.6.7"
  }
 },
 "nbformat": 4,
 "nbformat_minor": 2
}
